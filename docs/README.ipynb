{
 "cells": [
  {
   "cell_type": "code",
   "execution_count": null,
   "metadata": {
    "tags": [
     "remove_cell"
    ]
   },
   "outputs": [],
   "source": [
    "import warnings\n",
    "warnings.filterwarnings(\"ignore\")\n",
    "from IPython.display import display_markdown, display"
   ]
  },
  {
   "cell_type": "markdown",
   "metadata": {},
   "source": [
    "\n",
    "| OS        |  Status |\n",
    "| :-------------: |:-------------:|\n",
    "| Linux       | ![L Py 3.7 - 3.9](https://github.com/maichmueller/scm/workflows/L%20Py%203.7%20-%203.9/badge.svg)    |\n",
    "| Windows | ![W Py 3.7 - 3.9](https://github.com/maichmueller/scm/workflows/W%20Py%203.7%20-%203.9/badge.svg) |\n",
    "| Mac | ![M Py 3.7 - 3.9](https://github.com/maichmueller/scm/workflows/M%20Py%203.7%20-%203.9/badge.svg) |\n",
    "\n",
    "A Python package implementing Structural Causal Models (SCM).\n",
    "\n",
    "The library uses the CAS library [SymPy](https://github.com/sympy/sympy) to allow the user to state arbitrary assignment functions and noise distributions as supported by SymPy and builds the DAG with [networkx](https://github.com/networkx/networkx).\n",
    "\n",
    "It supports the features:\n",
    "  - Sampling\n",
    "  - Intervening\n",
    "  - Plotting\n",
    "  - Printing\n",
    "\n",
    " and by extension all methods on a DAG provided by networkx after accessing the member variable dag"
   ]
  },
  {
   "cell_type": "markdown",
   "metadata": {},
   "source": [
    "# Installation\n",
    "Either install via pip\n",
    "```\n",
    "pip install scmodels\n",
    "```\n",
    "or via cloning the repository and running the setup.py file\n",
    "```\n",
    "git clone https://github.com/maichmueller/scm\n",
    "cd scm\n",
    "python setup.py install\n",
    "```"
   ]
  },
  {
   "cell_type": "markdown",
   "metadata": {},
   "source": [
    "# Building an SCM\n",
    "\n",
    "In order to declare the SCM $X \\rightarrow Y \\leftarrow Z \\rightarrow X$\n",
    "\n",
    "with the assignments\n",
    "\n",
    "$Z \\sim \\text{LogLogistic} (\\alpha=1,\\beta=1)$\n",
    "\n",
    "$X=3Z^2 \\cdot N \\quad [N = \\text{LogNormal}(\\mu=1,\\sigma=1)]$\n",
    "\n",
    "$Y = 2Z + \\sqrt{X} + N \\quad [N=\\text{Normal}(\\mu=2,\\sigma=1)]$\n",
    "\n",
    "there are 2 different ways implemented.\n",
    "\n",
    "## 1. List Of Strings\n",
    "Describe the assignments as strings of the form:\n",
    "\n",
    "'VAR = FUNC(Noise, parent1, parent2, ...), Noise ~ DistributionXYZ'\n",
    "\n",
    "Note that - out of convenience - in this case, one does not need to (and isn't allowed to)\n",
    "restate the noise symbol string in the distribution (as would otherwise be necessary\n",
    "in constructing sympy distributions)."
   ]
  },
  {
   "cell_type": "code",
   "execution_count": null,
   "metadata": {},
   "outputs": [],
   "source": [
    "from scmodels import SCM\n",
    "\n",
    "assignment_seq = [\n",
    "    \"Z = M, M ~ LogLogistic(alpha=1, beta=1)\",\n",
    "    \"X = N * 3 * Z ** 2, N ~ LogNormal(mean=1, std=1)\",\n",
    "    \"Y = P + 2 * Z + sqrt(X), P ~ Normal(mean=2, std=1)\",\n",
    "    \"V = N**P + X, N ~ Normal(0,1) / P ~ Bernoulli(0.5)\",\n",
    "    \"W = exp(T) - log(M) * N + Y, M ~ Exponential(1) / T ~ StudentT(0.5) / N ~ Normal(0, 2)\",\n",
    "]\n",
    "\n",
    "myscm = SCM(assignment_seq)"
   ]
  },
  {
   "cell_type": "markdown",
   "metadata": {},
   "source": [
    "Agreements:\n",
    "- The name of the noise variable in the distribution specification\n",
    "(e.g. `P ~ Normal(mean=2, std=1)`) has to align with the noise variable\n",
    "name (`P`) of the assignment string.\n",
    "- Multiple noise models can be composited as done for variable `W` in the above example.\n",
    "The noise model string segment must specify all individual noise models separated by a '/'"
   ]
  },
  {
   "cell_type": "markdown",
   "metadata": {},
   "source": [
    "## 2. Assignment Map\n",
    "\n",
    "One can construct the SCM via an assignment map with the variables as keys\n",
    "and a tuple defining the assignment and the noise.\n",
    "\n",
    "### 2-Tuple: Assignments via SymPy parsing\n",
    "\n",
    "To refer to SymPy's string parsing capability (this includes numpy functions) provide a dict entry\n",
    "with a 2-tuple as value of the form:\n",
    "\n",
    "`'var': ('assignment string', noise)`\n",
    "\n"
   ]
  },
  {
   "cell_type": "code",
   "execution_count": null,
   "metadata": {},
   "outputs": [],
   "source": [
    "from sympy.stats import LogLogistic, LogNormal, Normal, Bernoulli\n",
    "\n",
    "assignment_map = {\n",
    "    \"Z\": (\n",
    "        \"M\",\n",
    "        LogLogistic(\"M\", alpha=1, beta=1)\n",
    "    ),\n",
    "    \"X\": (\n",
    "        \"N * 3 * Z ** 2\",\n",
    "        LogNormal(\"N\", mean=1, std=1),\n",
    "    ),\n",
    "    \"Y\": (\n",
    "        \"P + 2 * Z + sqrt(X)\",\n",
    "        Normal(\"P\", mean=2, std=1),\n",
    "    ),\n",
    "    \"V\": (\n",
    "        \"N**P + X\",\n",
    "        [Normal(\"N\", 0, 1), Bernoulli(\"P\", 0.5)]\n",
    "    )\n",
    "}\n",
    "\n",
    "myscm2 = SCM(assignment_map)"
   ]
  },
  {
   "cell_type": "markdown",
   "metadata": {},
   "source": [
    "Agreements:\n",
    "- the name of the noise distribution provided in its constructor\n",
    "(e.g. `Normal(\"N\", mean=2, std=1)`) has to align with the noise variable\n",
    "name (`N`) of the assignment string.\n",
    "- Multiple noise models in the assignment must be wrapped in an iterable (e.g. a list `[]`, or tuple `()`)"
   ]
  },
  {
   "cell_type": "markdown",
   "metadata": {},
   "source": [
    "### 3-Tuple: Assignments with arbitrary callables\n",
    "\n",
    "One can also declare the SCM via specifying the variable assignment in a dictionary with the\n",
    "variables as keys and as values a sequence of length 3 of the form:\n",
    "\n",
    "`'var': (['parent1', 'parent2', ...], Callable, Noise)`\n",
    "\n",
    "This allows the user to supply complex functions outside the space of analytical functions."
   ]
  },
  {
   "cell_type": "code",
   "execution_count": null,
   "metadata": {},
   "outputs": [],
   "source": [
    "import numpy as np\n",
    "\n",
    "\n",
    "def Y_assignment(p, z, x):\n",
    "    return p + 2 * z + np.sqrt(x)\n",
    "\n",
    "\n",
    "functional_map = {\n",
    "    \"Z\": (\n",
    "        [],\n",
    "        lambda m: m,\n",
    "        LogLogistic(\"M\", alpha=1, beta=1)\n",
    "    ),\n",
    "    \"X\": (\n",
    "        [\"Z\"],\n",
    "        lambda n, z: n * 3 * z ** 2,\n",
    "        LogNormal(\"N\", mean=1, std=1),\n",
    "    ),\n",
    "    \"Y\": (\n",
    "        [\"Z\", \"X\"],\n",
    "        Y_assignment,\n",
    "        Normal(\"P\", mean=2, std=1),\n",
    "    ),\n",
    "}\n",
    "\n",
    "myscm3 = SCM(functional_map)"
   ]
  },
  {
   "cell_type": "markdown",
   "metadata": {},
   "source": [
    "Agreements:\n",
    "- The callable's first parameter MUST be the noise input (unless the noise distribution is `None`).\n",
    "- The order of variables in the parents list determines the semantic order of input for parameters in the functional\n",
    "(left to right)."
   ]
  },
  {
   "cell_type": "markdown",
   "metadata": {},
   "source": [
    "# Features\n",
    "\n",
    "## Prettyprint\n",
    "\n",
    "The SCM supports a form of informative printing of its current setup,\n",
    "which includes mentioning active interventions and the assignments."
   ]
  },
  {
   "cell_type": "code",
   "execution_count": null,
   "metadata": {},
   "outputs": [],
   "source": [
    "print(myscm)"
   ]
  },
  {
   "cell_type": "markdown",
   "metadata": {},
   "source": [
    "In the case of custom callable assignments, the output is less informative"
   ]
  },
  {
   "cell_type": "code",
   "execution_count": null,
   "metadata": {},
   "outputs": [],
   "source": [
    "print(myscm3)"
   ]
  },
  {
   "cell_type": "markdown",
   "metadata": {},
   "source": [
    "## Interventions\n",
    "One can easily perform interventions on the variables,\n",
    "e.g. a Do-intervention or also general interventions, which remodel the connections, assignments, and noise distributions.\n",
    "For general interventions, the passing structure is dict of the following form:\n",
    "\n",
    "    {var: (New Parents (Optional), New Assignment (optional), New Noise (optional))}\n",
    "\n",
    "Any part of the original variable state, that is meant to be left unchanged, has to be passed as `None`.\n",
    "E.g. to assign a new callable assignment to variable `X` without changing parents or noise, one would call:"
   ]
  },
  {
   "cell_type": "code",
   "execution_count": null,
   "metadata": {},
   "outputs": [],
   "source": [
    "my_new_callable = lambda n, z: n + z\n",
    "\n",
    "myscm.intervention({\"X\": (None, my_new_callable, None)})"
   ]
  },
  {
   "cell_type": "markdown",
   "metadata": {},
   "source": [
    "For the example of the do-intervention ![\\text{do}(X=1=)](https://latex.codecogs.com/svg.latex?&space;\\text{do}(X=1)),\n",
    "one can use the helper method `do_intervention`. The pendant for noise interventions is called `soft_intervention`:"
   ]
  },
  {
   "cell_type": "code",
   "execution_count": null,
   "metadata": {},
   "outputs": [],
   "source": [
    "myscm.do_intervention([(\"X\", 1)])\n",
    "\n",
    "from sympy.stats import FiniteRV\n",
    "\n",
    "myscm.soft_intervention([(\"X\", FiniteRV(str(myscm[\"X\"].noise), density={-1: .5, 1: .5}))])"
   ]
  },
  {
   "cell_type": "markdown",
   "metadata": {},
   "source": [
    "Calling `undo_intervention` restores the original state of all variables from construction time, that have been passed. One can optionally specify,\n",
    "If no variables are specified (`variables=None`), all interventions are undone."
   ]
  },
  {
   "cell_type": "code",
   "execution_count": null,
   "metadata": {},
   "outputs": [],
   "source": [
    "myscm.undo_intervention(variables=[\"X\"])"
   ]
  },
  {
   "cell_type": "markdown",
   "metadata": {},
   "source": [
    "## Sampling\n",
    "\n",
    "The SCM allows drawing as many samples as needed through the method `myscm.sample(n)`."
   ]
  },
  {
   "cell_type": "code",
   "execution_count": null,
   "metadata": {},
   "outputs": [],
   "source": [
    "n = 5\n",
    "samples = myscm.sample(n)",
    "\n",
    "display(samples.to_markdown(tablefmt=\"github\"), raw=True)"
   ]
  },
  {
   "cell_type": "markdown",
   "metadata": {},
   "source": [
    "If infinite sampling is desired, one can also receive a sampling generator through"
   ]
  },
  {
   "cell_type": "code",
   "execution_count": null,
   "metadata": {},
   "outputs": [],
   "source": [
    "container = {var: [] for var in myscm}\n",
    "sampler = myscm.sample_iter(container)"
   ]
  },
  {
   "cell_type": "markdown",
   "metadata": {},
   "source": [
    "`container` is an optional target dictionary to store the computed samples in."
   ]
  },
  {
   "cell_type": "code",
   "execution_count": null,
   "metadata": {},
   "outputs": [],
   "source": [
    "import pandas as pd\n",
    "\n",
    "for i in range(n):\n",
    "    next(sampler)\n",
    "\n",
    "display(pd.DataFrame.from_dict(container).to_markdown(tablefmt=\"github\"), raw=True)"
   ]
  },
  {
   "cell_type": "markdown",
   "metadata": {},
   "source": [
    "If the target container is not provided, the generator returns a new `dict` for every sample."
   ]
  },
  {
   "cell_type": "code",
   "execution_count": null,
   "metadata": {},
   "outputs": [],
   "source": [
    "sample = next(myscm.sample_iter())\n",
    "display(pd.DataFrame.from_dict(sample).to_markdown(tablefmt=\"github\"), raw=True)"
   ]
  },
  {
   "cell_type": "markdown",
   "metadata": {},
   "source": [
    "## Plotting\n",
    "If you have graphviz installed, you can plot the DAG by calling"
   ]
  },
  {
   "cell_type": "markdown",
   "metadata": {},
   "source": [
    "```python\n",
    "myscm.plot(node_size=1000, alpha=1)\n",
    "```"
   ]
  },
  {
   "cell_type": "markdown",
   "metadata": {},
   "source": [
    "![example_plot](https://github.com/maichmueller/scm/blob/master/docs/images/example_plot.png)"
   ]
  }
 ],
 "metadata": {
  "kernelspec": {
   "display_name": "Python [conda env:scmodels] *",
   "language": "python",
   "name": "conda-env-scmodels-py"
  },
  "language_info": {
   "codemirror_mode": {
    "name": "ipython",
    "version": 3
   },
   "file_extension": ".py",
   "mimetype": "text/x-python",
   "name": "python",
   "nbconvert_exporter": "python",
   "pygments_lexer": "ipython3",
   "version": "3.10.9"
  }
 },
 "nbformat": 4,
 "nbformat_minor": 4
}
